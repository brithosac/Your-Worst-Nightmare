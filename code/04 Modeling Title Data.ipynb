{
 "cells": [
  {
   "cell_type": "markdown",
   "metadata": {},
   "source": [
    "# Subreddit Classification - Modeling"
   ]
  },
  {
   "cell_type": "markdown",
   "metadata": {},
   "source": [
    "## Classification Modeling using cleaned title text, raw title character count, and raw title word count"
   ]
  },
  {
   "cell_type": "markdown",
   "metadata": {},
   "source": [
    "### Importing necessary libraries"
   ]
  },
  {
   "cell_type": "code",
   "execution_count": 1,
   "metadata": {},
   "outputs": [],
   "source": [
    "import numpy as np\n",
    "import pandas as pd\n",
    "import matplotlib.pyplot as plt\n",
    "import requests\n",
    "import time\n",
    "import warnings\n",
    "import regex as re\n",
    "\n",
    "from sklearn.pipeline import Pipeline, FeatureUnion\n",
    "from sklearn.preprocessing import StandardScaler, FunctionTransformer\n",
    "from sklearn.linear_model import LogisticRegression\n",
    "from sklearn.model_selection import train_test_split, GridSearchCV\n",
    "from sklearn.feature_extraction.text import CountVectorizer, TfidfVectorizer\n",
    "from sklearn.metrics import confusion_matrix, accuracy_score, classification_report\n",
    "from sklearn.metrics import confusion_matrix, plot_confusion_matrix\n",
    "\n",
    "from nltk.sentiment.vader import SentimentIntensityAnalyzer\n",
    "from nltk.stem import WordNetLemmatizer\n",
    "from nltk.tokenize import RegexpTokenizer\n",
    "warnings.filterwarnings('ignore')\n",
    "np.random.seed(824)\n",
    "from bs4 import BeautifulSoup \n",
    "from nltk.corpus import stopwords\n",
    "from sklearn.naive_bayes import MultinomialNB"
   ]
  },
  {
   "cell_type": "markdown",
   "metadata": {},
   "source": [
    "## Grab cleaned dataframe"
   ]
  },
  {
   "cell_type": "code",
   "execution_count": 2,
   "metadata": {},
   "outputs": [],
   "source": [
    "df = pd.read_csv('../datasets/preprocessed_data.csv')"
   ]
  },
  {
   "cell_type": "code",
   "execution_count": 3,
   "metadata": {},
   "outputs": [],
   "source": [
    "df.drop(columns = 'Unnamed: 0', inplace = True)"
   ]
  },
  {
   "cell_type": "code",
   "execution_count": 4,
   "metadata": {},
   "outputs": [
    {
     "data": {
      "text/html": [
       "<div>\n",
       "<style scoped>\n",
       "    .dataframe tbody tr th:only-of-type {\n",
       "        vertical-align: middle;\n",
       "    }\n",
       "\n",
       "    .dataframe tbody tr th {\n",
       "        vertical-align: top;\n",
       "    }\n",
       "\n",
       "    .dataframe thead th {\n",
       "        text-align: right;\n",
       "    }\n",
       "</style>\n",
       "<table border=\"1\" class=\"dataframe\">\n",
       "  <thead>\n",
       "    <tr style=\"text-align: right;\">\n",
       "      <th></th>\n",
       "      <th>title</th>\n",
       "      <th>selftext</th>\n",
       "      <th>subreddit</th>\n",
       "      <th>title_char_count</th>\n",
       "      <th>title_word_count</th>\n",
       "      <th>selftext_char_count</th>\n",
       "      <th>selftext_word_count</th>\n",
       "      <th>clean_title</th>\n",
       "      <th>clean_selftext</th>\n",
       "      <th>clean_title_word_count</th>\n",
       "      <th>clean_selftext_word_count</th>\n",
       "      <th>all_content</th>\n",
       "      <th>clean_content_word_count</th>\n",
       "    </tr>\n",
       "  </thead>\n",
       "  <tbody>\n",
       "    <tr>\n",
       "      <th>0</th>\n",
       "      <td>7 rules for surviving The Crack</td>\n",
       "      <td>“We have to rewrite it, there is no other poss...</td>\n",
       "      <td>1</td>\n",
       "      <td>31</td>\n",
       "      <td>6</td>\n",
       "      <td>6003</td>\n",
       "      <td>1138</td>\n",
       "      <td>rules surviving crack</td>\n",
       "      <td>rewrite possibility rewrite understand rewriti...</td>\n",
       "      <td>3</td>\n",
       "      <td>451</td>\n",
       "      <td>rules surviving crack rewrite possibility rewr...</td>\n",
       "      <td>1138</td>\n",
       "    </tr>\n",
       "    <tr>\n",
       "      <th>1</th>\n",
       "      <td>I was followed home one night and got a tape t...</td>\n",
       "      <td>It was a warm night in a town just outside of ...</td>\n",
       "      <td>1</td>\n",
       "      <td>61</td>\n",
       "      <td>13</td>\n",
       "      <td>2471</td>\n",
       "      <td>505</td>\n",
       "      <td>followed home night got tape morning</td>\n",
       "      <td>warm night town just outside london ontario co...</td>\n",
       "      <td>6</td>\n",
       "      <td>193</td>\n",
       "      <td>followed home night got tape morning warm nigh...</td>\n",
       "      <td>505</td>\n",
       "    </tr>\n",
       "  </tbody>\n",
       "</table>\n",
       "</div>"
      ],
      "text/plain": [
       "                                               title  \\\n",
       "0                    7 rules for surviving The Crack   \n",
       "1  I was followed home one night and got a tape t...   \n",
       "\n",
       "                                            selftext  subreddit  \\\n",
       "0  “We have to rewrite it, there is no other poss...          1   \n",
       "1  It was a warm night in a town just outside of ...          1   \n",
       "\n",
       "   title_char_count  title_word_count  selftext_char_count  \\\n",
       "0                31                 6                 6003   \n",
       "1                61                13                 2471   \n",
       "\n",
       "   selftext_word_count                           clean_title  \\\n",
       "0                 1138                 rules surviving crack   \n",
       "1                  505  followed home night got tape morning   \n",
       "\n",
       "                                      clean_selftext  clean_title_word_count  \\\n",
       "0  rewrite possibility rewrite understand rewriti...                       3   \n",
       "1  warm night town just outside london ontario co...                       6   \n",
       "\n",
       "   clean_selftext_word_count  \\\n",
       "0                        451   \n",
       "1                        193   \n",
       "\n",
       "                                         all_content  clean_content_word_count  \n",
       "0  rules surviving crack rewrite possibility rewr...                      1138  \n",
       "1  followed home night got tape morning warm nigh...                       505  "
      ]
     },
     "execution_count": 4,
     "metadata": {},
     "output_type": "execute_result"
    }
   ],
   "source": [
    "df.head(2)"
   ]
  },
  {
   "cell_type": "code",
   "execution_count": 5,
   "metadata": {},
   "outputs": [
    {
     "data": {
      "text/plain": [
       "title                          7\n",
       "selftext                       6\n",
       "subreddit                      0\n",
       "title_char_count               0\n",
       "title_word_count               0\n",
       "selftext_char_count            0\n",
       "selftext_word_count            0\n",
       "clean_title                  274\n",
       "clean_selftext                42\n",
       "clean_title_word_count         0\n",
       "clean_selftext_word_count      0\n",
       "all_content                    0\n",
       "clean_content_word_count       0\n",
       "dtype: int64"
      ]
     },
     "execution_count": 5,
     "metadata": {},
     "output_type": "execute_result"
    }
   ],
   "source": [
    "df.isnull().sum()"
   ]
  },
  {
   "cell_type": "code",
   "execution_count": 6,
   "metadata": {},
   "outputs": [],
   "source": [
    "df = df.dropna()"
   ]
  },
  {
   "cell_type": "code",
   "execution_count": 7,
   "metadata": {},
   "outputs": [
    {
     "data": {
      "text/plain": [
       "title                        0\n",
       "selftext                     0\n",
       "subreddit                    0\n",
       "title_char_count             0\n",
       "title_word_count             0\n",
       "selftext_char_count          0\n",
       "selftext_word_count          0\n",
       "clean_title                  0\n",
       "clean_selftext               0\n",
       "clean_title_word_count       0\n",
       "clean_selftext_word_count    0\n",
       "all_content                  0\n",
       "clean_content_word_count     0\n",
       "dtype: int64"
      ]
     },
     "execution_count": 7,
     "metadata": {},
     "output_type": "execute_result"
    }
   ],
   "source": [
    "df.isnull().sum()"
   ]
  },
  {
   "cell_type": "markdown",
   "metadata": {},
   "source": [
    "## Our data is finally ready for modeling....."
   ]
  },
  {
   "cell_type": "markdown",
   "metadata": {},
   "source": [
    "## Let's work with our title data"
   ]
  },
  {
   "cell_type": "code",
   "execution_count": 8,
   "metadata": {},
   "outputs": [],
   "source": [
    "# we will use these transformers in our pipeline later on\n",
    "# create functions to return just the columns that you care about\n",
    "get_text_data = FunctionTransformer(lambda x: x['clean_title'], validate = False)\n",
    "get_numeric_data = FunctionTransformer(lambda x: x[['title_char_count','title_word_count']], validate = False)"
   ]
  },
  {
   "cell_type": "code",
   "execution_count": 9,
   "metadata": {},
   "outputs": [],
   "source": [
    "features = ['clean_title',\n",
    "            'title_char_count', \n",
    "            'title_word_count'\n",
    "           ]\n",
    "X = df[features]\n",
    "y = df['subreddit']"
   ]
  },
  {
   "cell_type": "markdown",
   "metadata": {},
   "source": [
    "## Determine baseline accuracy"
   ]
  },
  {
   "cell_type": "code",
   "execution_count": 10,
   "metadata": {},
   "outputs": [
    {
     "name": "stdout",
     "output_type": "stream",
     "text": [
      "Baseline Model Accuracy = 50.134579249403274%\n"
     ]
    }
   ],
   "source": [
    "print(f'Baseline Model Accuracy = {y.value_counts(normalize = True)[1] * 100}%')"
   ]
  },
  {
   "cell_type": "markdown",
   "metadata": {},
   "source": [
    "## Train/Test Split the data"
   ]
  },
  {
   "cell_type": "code",
   "execution_count": 11,
   "metadata": {},
   "outputs": [],
   "source": [
    "# Create train_test_split.\n",
    "X_train, X_test, y_train, y_test = train_test_split(X,\n",
    "                                                    y,\n",
    "                                                   random_state = 42,\n",
    "                                                   stratify = y)"
   ]
  },
  {
   "cell_type": "markdown",
   "metadata": {},
   "source": [
    "## Logistic Regression using Count Vectorizer - Pipeline and GridSearch"
   ]
  },
  {
   "cell_type": "code",
   "execution_count": 12,
   "metadata": {},
   "outputs": [
    {
     "data": {
      "text/plain": [
       "0.7210866885195988"
      ]
     },
     "execution_count": 12,
     "metadata": {},
     "output_type": "execute_result"
    }
   ],
   "source": [
    "cvec_pipe = Pipeline([\n",
    "    ('features', FeatureUnion([\n",
    "            ('numeric_features', Pipeline([ #this transformer grabs all numeric data (sentiment and counts)\n",
    "                ('selector', get_numeric_data), \n",
    "                ('ss', StandardScaler())\n",
    "            ])),\n",
    "            ('text_features', Pipeline([# this transformer dummifies each word into corpus\n",
    "                ('selector', get_text_data),\n",
    "                ('cvec', CountVectorizer())\n",
    "            ]))\n",
    "    ])),\n",
    "    ('logreg', LogisticRegression())\n",
    "])\n",
    "\n",
    "cvec_params = {    \n",
    "    'features__text_features__cvec__stop_words' : [None],\n",
    "    'features__text_features__cvec__min_df' : [1],\n",
    "    'features__text_features__cvec__max_df' : [0.25],\n",
    "    'features__text_features__cvec__ngram_range' : [(1,3)],\n",
    "    'logreg__penalty' : ['l2']\n",
    "}\n",
    "\n",
    "cvec_gs = GridSearchCV(cvec_pipe, \n",
    "                  cvec_params, \n",
    "                  cv=5)\n",
    "\n",
    "cvec_gs.fit(X_train, y_train)\n",
    "cvec_gs.best_score_"
   ]
  },
  {
   "cell_type": "code",
   "execution_count": 13,
   "metadata": {},
   "outputs": [
    {
     "name": "stdout",
     "output_type": "stream",
     "text": [
      "Best CountVectorizer Regression Model:\n",
      "{'features__text_features__cvec__max_df': 0.25, 'features__text_features__cvec__min_df': 1, 'features__text_features__cvec__ngram_range': (1, 3), 'features__text_features__cvec__stop_words': None, 'logreg__penalty': 'l2'}\n",
      "Training Accuracy Score: 93.63%.\n",
      "Testing Accuracy Score: 72.6%.\n"
     ]
    }
   ],
   "source": [
    "#Accuracy scores\n",
    "print ('Best CountVectorizer Regression Model:') \n",
    "print (cvec_gs.best_params_)\n",
    "print (f'Training Accuracy Score: {round(cvec_gs.score(X_train, y_train) * 100, 2)}%.')\n",
    "print (f'Testing Accuracy Score: {round(cvec_gs.score(X_test, y_test) * 100, 2)}%.')"
   ]
  },
  {
   "cell_type": "markdown",
   "metadata": {},
   "source": [
    "### Evaluate our Model"
   ]
  },
  {
   "cell_type": "code",
   "execution_count": 14,
   "metadata": {},
   "outputs": [],
   "source": [
    "def nice_conmat(y_test, preds, classes):\n",
    "\n",
    "    conmat = confusion_matrix(y_test, preds)\n",
    "    print(f'Accuracy Score: {accuracy_score(y_test, preds)}')\n",
    "    return pd.DataFrame(conmat, columns=['Predicted ' +class_ for class_ in classes], \\\n",
    "                index=['Actual '+ class_ for class_ in classes])"
   ]
  },
  {
   "cell_type": "code",
   "execution_count": 15,
   "metadata": {},
   "outputs": [
    {
     "name": "stdout",
     "output_type": "stream",
     "text": [
      "Accuracy Score: 0.72598009343896\n"
     ]
    },
    {
     "data": {
      "text/html": [
       "<div>\n",
       "<style scoped>\n",
       "    .dataframe tbody tr th:only-of-type {\n",
       "        vertical-align: middle;\n",
       "    }\n",
       "\n",
       "    .dataframe tbody tr th {\n",
       "        vertical-align: top;\n",
       "    }\n",
       "\n",
       "    .dataframe thead th {\n",
       "        text-align: right;\n",
       "    }\n",
       "</style>\n",
       "<table border=\"1\" class=\"dataframe\">\n",
       "  <thead>\n",
       "    <tr style=\"text-align: right;\">\n",
       "      <th></th>\n",
       "      <th>Predicted scarystories</th>\n",
       "      <th>Predicted nosleep</th>\n",
       "    </tr>\n",
       "  </thead>\n",
       "  <tbody>\n",
       "    <tr>\n",
       "      <th>Actual scarystories</th>\n",
       "      <td>1805</td>\n",
       "      <td>650</td>\n",
       "    </tr>\n",
       "    <tr>\n",
       "      <th>Actual nosleep</th>\n",
       "      <td>699</td>\n",
       "      <td>1769</td>\n",
       "    </tr>\n",
       "  </tbody>\n",
       "</table>\n",
       "</div>"
      ],
      "text/plain": [
       "                     Predicted scarystories  Predicted nosleep\n",
       "Actual scarystories                    1805                650\n",
       "Actual nosleep                          699               1769"
      ]
     },
     "execution_count": 15,
     "metadata": {},
     "output_type": "execute_result"
    }
   ],
   "source": [
    "# build a function to print out a nice confusion matrix\n",
    "preds = cvec_gs.best_estimator_.predict(X_test)\n",
    "\n",
    "confuse = nice_conmat(y_test, preds, ['scarystories', 'nosleep'])\n",
    "confuse"
   ]
  },
  {
   "cell_type": "code",
   "execution_count": 16,
   "metadata": {},
   "outputs": [],
   "source": [
    "confuse.to_csv('../datasets/title_confusion.csv')"
   ]
  },
  {
   "cell_type": "code",
   "execution_count": 17,
   "metadata": {},
   "outputs": [
    {
     "name": "stdout",
     "output_type": "stream",
     "text": [
      "Accuracy: 72.6%\n",
      "Misclassification rate: 27.4%\n",
      "Recall / Sensitivity: 71.68%\n",
      "Specificity: 73.52%\n",
      "Precision: 73.13%\n"
     ]
    }
   ],
   "source": [
    "# Calculate classification metrics\n",
    "tn, fp, fn, tp = confusion_matrix(y_test, preds).ravel()\n",
    "\n",
    "accuracy = (tp + tn) / (tp + fn + fp + tn) * 100\n",
    "misclassification = (100 - accuracy)\n",
    "sensitivity = tp / (tp + fn) * 100\n",
    "specificity = tn / (tn + fp) * 100\n",
    "precision = tp / (tp + fp) * 100\n",
    "\n",
    "print(f'Accuracy: {round(accuracy, 2)}%')\n",
    "print(f'Misclassification rate: {round(misclassification, 2)}%')\n",
    "print(f'Recall / Sensitivity: {round(sensitivity, 2)}%')\n",
    "print(f'Specificity: {round(specificity, 2)}%')\n",
    "print(f'Precision: {round(precision, 2)}%')"
   ]
  },
  {
   "cell_type": "code",
   "execution_count": 18,
   "metadata": {},
   "outputs": [],
   "source": [
    "#coefficients\n",
    "coefficients = cvec_gs.best_estimator_.named_steps['logreg'].coef_[0]"
   ]
  },
  {
   "cell_type": "code",
   "execution_count": 19,
   "metadata": {},
   "outputs": [
    {
     "data": {
      "text/plain": [
       "50336"
      ]
     },
     "execution_count": 19,
     "metadata": {},
     "output_type": "execute_result"
    }
   ],
   "source": [
    "len(coefficients)"
   ]
  },
  {
   "cell_type": "code",
   "execution_count": 20,
   "metadata": {
    "scrolled": true
   },
   "outputs": [],
   "source": [
    "features = cvec_gs.best_estimator_.named_steps['features'].transformer_list[1][1].named_steps['cvec'].get_feature_names()"
   ]
  },
  {
   "cell_type": "code",
   "execution_count": 21,
   "metadata": {},
   "outputs": [
    {
     "name": "stdout",
     "output_type": "stream",
     "text": [
      "There are 50336 coefficients.\n",
      "There are 50334 features.\n"
     ]
    }
   ],
   "source": [
    "print(f'There are {len(coefficients)} coefficients.')\n",
    "print(f'There are {len(features)} features.')"
   ]
  },
  {
   "cell_type": "code",
   "execution_count": 22,
   "metadata": {},
   "outputs": [],
   "source": [
    "features = ['title_char_count', 'title_word_count'] +\\\n",
    "cvec_gs.best_estimator_.named_steps['features'].transformer_list[1][1].named_steps['cvec'].get_feature_names()\n",
    "\n",
    "\n",
    "coefficients = cvec_gs.best_estimator_.named_steps['logreg'].coef_[0]"
   ]
  },
  {
   "cell_type": "code",
   "execution_count": 23,
   "metadata": {},
   "outputs": [
    {
     "data": {
      "text/html": [
       "<div>\n",
       "<style scoped>\n",
       "    .dataframe tbody tr th:only-of-type {\n",
       "        vertical-align: middle;\n",
       "    }\n",
       "\n",
       "    .dataframe tbody tr th {\n",
       "        vertical-align: top;\n",
       "    }\n",
       "\n",
       "    .dataframe thead th {\n",
       "        text-align: right;\n",
       "    }\n",
       "</style>\n",
       "<table border=\"1\" class=\"dataframe\">\n",
       "  <thead>\n",
       "    <tr style=\"text-align: right;\">\n",
       "      <th></th>\n",
       "      <th>features</th>\n",
       "      <th>coef</th>\n",
       "      <th>exp_coef</th>\n",
       "    </tr>\n",
       "  </thead>\n",
       "  <tbody>\n",
       "    <tr>\n",
       "      <th>0</th>\n",
       "      <td>title_char_count</td>\n",
       "      <td>0.425900</td>\n",
       "      <td>1.530968</td>\n",
       "    </tr>\n",
       "    <tr>\n",
       "      <th>1</th>\n",
       "      <td>title_word_count</td>\n",
       "      <td>0.668756</td>\n",
       "      <td>1.951807</td>\n",
       "    </tr>\n",
       "    <tr>\n",
       "      <th>2</th>\n",
       "      <td>aa</td>\n",
       "      <td>0.255620</td>\n",
       "      <td>1.291262</td>\n",
       "    </tr>\n",
       "    <tr>\n",
       "      <th>3</th>\n",
       "      <td>aa aa</td>\n",
       "      <td>0.127810</td>\n",
       "      <td>1.136337</td>\n",
       "    </tr>\n",
       "    <tr>\n",
       "      <th>4</th>\n",
       "      <td>aa aa saw</td>\n",
       "      <td>0.127810</td>\n",
       "      <td>1.136337</td>\n",
       "    </tr>\n",
       "    <tr>\n",
       "      <th>...</th>\n",
       "      <td>...</td>\n",
       "      <td>...</td>\n",
       "      <td>...</td>\n",
       "    </tr>\n",
       "    <tr>\n",
       "      <th>50331</th>\n",
       "      <td>zwooorp</td>\n",
       "      <td>0.026972</td>\n",
       "      <td>1.027339</td>\n",
       "    </tr>\n",
       "    <tr>\n",
       "      <th>50332</th>\n",
       "      <td>zwooorp leg</td>\n",
       "      <td>0.026972</td>\n",
       "      <td>1.027339</td>\n",
       "    </tr>\n",
       "    <tr>\n",
       "      <th>50333</th>\n",
       "      <td>zwooorp leg gets</td>\n",
       "      <td>0.026972</td>\n",
       "      <td>1.027339</td>\n",
       "    </tr>\n",
       "    <tr>\n",
       "      <th>50334</th>\n",
       "      <td>zx</td>\n",
       "      <td>0.074204</td>\n",
       "      <td>1.077026</td>\n",
       "    </tr>\n",
       "    <tr>\n",
       "      <th>50335</th>\n",
       "      <td>zzzquil</td>\n",
       "      <td>-0.341900</td>\n",
       "      <td>0.710419</td>\n",
       "    </tr>\n",
       "  </tbody>\n",
       "</table>\n",
       "<p>50336 rows × 3 columns</p>\n",
       "</div>"
      ],
      "text/plain": [
       "               features      coef  exp_coef\n",
       "0      title_char_count  0.425900  1.530968\n",
       "1      title_word_count  0.668756  1.951807\n",
       "2                    aa  0.255620  1.291262\n",
       "3                 aa aa  0.127810  1.136337\n",
       "4             aa aa saw  0.127810  1.136337\n",
       "...                 ...       ...       ...\n",
       "50331           zwooorp  0.026972  1.027339\n",
       "50332       zwooorp leg  0.026972  1.027339\n",
       "50333  zwooorp leg gets  0.026972  1.027339\n",
       "50334                zx  0.074204  1.077026\n",
       "50335           zzzquil -0.341900  0.710419\n",
       "\n",
       "[50336 rows x 3 columns]"
      ]
     },
     "execution_count": 23,
     "metadata": {},
     "output_type": "execute_result"
    }
   ],
   "source": [
    "coef_df = pd.DataFrame({'features': features, \n",
    "              'coef' : coefficients,\n",
    "              'exp_coef': [np.exp(coef) for coef in coefficients] #exponentiated coefficients\n",
    "             })\n",
    "\n",
    "coef_df"
   ]
  },
  {
   "cell_type": "code",
   "execution_count": 24,
   "metadata": {},
   "outputs": [
    {
     "data": {
      "text/html": [
       "<div>\n",
       "<style scoped>\n",
       "    .dataframe tbody tr th:only-of-type {\n",
       "        vertical-align: middle;\n",
       "    }\n",
       "\n",
       "    .dataframe tbody tr th {\n",
       "        vertical-align: top;\n",
       "    }\n",
       "\n",
       "    .dataframe thead th {\n",
       "        text-align: right;\n",
       "    }\n",
       "</style>\n",
       "<table border=\"1\" class=\"dataframe\">\n",
       "  <thead>\n",
       "    <tr style=\"text-align: right;\">\n",
       "      <th></th>\n",
       "      <th>coef</th>\n",
       "      <th>exp_coef</th>\n",
       "    </tr>\n",
       "    <tr>\n",
       "      <th>features</th>\n",
       "      <th></th>\n",
       "      <th></th>\n",
       "    </tr>\n",
       "  </thead>\n",
       "  <tbody>\n",
       "    <tr>\n",
       "      <th>follow</th>\n",
       "      <td>1.435041</td>\n",
       "      <td>4.199819</td>\n",
       "    </tr>\n",
       "    <tr>\n",
       "      <th>girl story</th>\n",
       "      <td>1.414178</td>\n",
       "      <td>4.113105</td>\n",
       "    </tr>\n",
       "    <tr>\n",
       "      <th>happened friend</th>\n",
       "      <td>1.386626</td>\n",
       "      <td>4.001327</td>\n",
       "    </tr>\n",
       "    <tr>\n",
       "      <th>rules</th>\n",
       "      <td>1.304684</td>\n",
       "      <td>3.686523</td>\n",
       "    </tr>\n",
       "    <tr>\n",
       "      <th>entry</th>\n",
       "      <td>1.225745</td>\n",
       "      <td>3.406702</td>\n",
       "    </tr>\n",
       "    <tr>\n",
       "      <th>weeks</th>\n",
       "      <td>1.222412</td>\n",
       "      <td>3.395368</td>\n",
       "    </tr>\n",
       "    <tr>\n",
       "      <th>hole</th>\n",
       "      <td>1.205336</td>\n",
       "      <td>3.337880</td>\n",
       "    </tr>\n",
       "    <tr>\n",
       "      <th>crave</th>\n",
       "      <td>1.203667</td>\n",
       "      <td>3.332314</td>\n",
       "    </tr>\n",
       "    <tr>\n",
       "      <th>story read</th>\n",
       "      <td>1.196207</td>\n",
       "      <td>3.307549</td>\n",
       "    </tr>\n",
       "    <tr>\n",
       "      <th>hope scary</th>\n",
       "      <td>1.180381</td>\n",
       "      <td>3.255614</td>\n",
       "    </tr>\n",
       "    <tr>\n",
       "      <th>true horror story</th>\n",
       "      <td>1.163432</td>\n",
       "      <td>3.200901</td>\n",
       "    </tr>\n",
       "    <tr>\n",
       "      <th>world</th>\n",
       "      <td>1.152231</td>\n",
       "      <td>3.165246</td>\n",
       "    </tr>\n",
       "    <tr>\n",
       "      <th>midnight game</th>\n",
       "      <td>1.130522</td>\n",
       "      <td>3.097273</td>\n",
       "    </tr>\n",
       "    <tr>\n",
       "      <th>beware box</th>\n",
       "      <td>1.121655</td>\n",
       "      <td>3.069930</td>\n",
       "    </tr>\n",
       "    <tr>\n",
       "      <th>house haunted</th>\n",
       "      <td>1.118965</td>\n",
       "      <td>3.061683</td>\n",
       "    </tr>\n",
       "    <tr>\n",
       "      <th>survival</th>\n",
       "      <td>1.104628</td>\n",
       "      <td>3.018103</td>\n",
       "    </tr>\n",
       "    <tr>\n",
       "      <th>beast</th>\n",
       "      <td>1.101091</td>\n",
       "      <td>3.007444</td>\n",
       "    </tr>\n",
       "    <tr>\n",
       "      <th>mechanic</th>\n",
       "      <td>1.098588</td>\n",
       "      <td>2.999928</td>\n",
       "    </tr>\n",
       "    <tr>\n",
       "      <th>accident</th>\n",
       "      <td>1.094088</td>\n",
       "      <td>2.986458</td>\n",
       "    </tr>\n",
       "    <tr>\n",
       "      <th>messages</th>\n",
       "      <td>1.082648</td>\n",
       "      <td>2.952487</td>\n",
       "    </tr>\n",
       "  </tbody>\n",
       "</table>\n",
       "</div>"
      ],
      "text/plain": [
       "                       coef  exp_coef\n",
       "features                             \n",
       "follow             1.435041  4.199819\n",
       "girl story         1.414178  4.113105\n",
       "happened friend    1.386626  4.001327\n",
       "rules              1.304684  3.686523\n",
       "entry              1.225745  3.406702\n",
       "weeks              1.222412  3.395368\n",
       "hole               1.205336  3.337880\n",
       "crave              1.203667  3.332314\n",
       "story read         1.196207  3.307549\n",
       "hope scary         1.180381  3.255614\n",
       "true horror story  1.163432  3.200901\n",
       "world              1.152231  3.165246\n",
       "midnight game      1.130522  3.097273\n",
       "beware box         1.121655  3.069930\n",
       "house haunted      1.118965  3.061683\n",
       "survival           1.104628  3.018103\n",
       "beast              1.101091  3.007444\n",
       "mechanic           1.098588  2.999928\n",
       "accident           1.094088  2.986458\n",
       "messages           1.082648  2.952487"
      ]
     },
     "execution_count": 24,
     "metadata": {},
     "output_type": "execute_result"
    }
   ],
   "source": [
    "coef_df = coef_df.set_index('features')\n",
    "coef_df = coef_df.sort_values('exp_coef', ascending = False)\n",
    "coef_df.head(20)"
   ]
  },
  {
   "cell_type": "code",
   "execution_count": 25,
   "metadata": {},
   "outputs": [
    {
     "data": {
      "text/plain": [
       "features\n",
       "follow               4.199819\n",
       "girl story           4.113105\n",
       "happened friend      4.001327\n",
       "rules                3.686523\n",
       "entry                3.406702\n",
       "weeks                3.395368\n",
       "hole                 3.337880\n",
       "crave                3.332314\n",
       "story read           3.307549\n",
       "hope scary           3.255614\n",
       "true horror story    3.200901\n",
       "world                3.165246\n",
       "midnight game        3.097273\n",
       "beware box           3.069930\n",
       "house haunted        3.061683\n",
       "survival             3.018103\n",
       "beast                3.007444\n",
       "mechanic             2.999928\n",
       "accident             2.986458\n",
       "messages             2.952487\n",
       "dream psycho         2.934226\n",
       "laughing man         2.930051\n",
       "experiment           2.897126\n",
       "disease              2.893746\n",
       "invisible ghost      2.881942\n",
       "figures              2.846749\n",
       "work                 2.816209\n",
       "faith                2.815532\n",
       "boyfriend            2.814109\n",
       "meet soon            2.808801\n",
       "forever              2.802841\n",
       "family weird         2.786238\n",
       "true horror          2.784873\n",
       "manananggal          2.784776\n",
       "homework             2.782628\n",
       "purgatory            2.782441\n",
       "looking door         2.763932\n",
       "lady woods           2.755112\n",
       "won                  2.753865\n",
       "grandma house        2.750196\n",
       "worse                2.739343\n",
       "sanctorum            2.725364\n",
       "trouble              2.719907\n",
       "doll house           2.699143\n",
       "reperfection         2.693258\n",
       "fever                2.684605\n",
       "going insane         2.662023\n",
       "jab                  2.661539\n",
       "odd boy              2.657562\n",
       "received             2.657393\n",
       "Name: exp_coef, dtype: float64"
      ]
     },
     "execution_count": 25,
     "metadata": {},
     "output_type": "execute_result"
    }
   ],
   "source": [
    "coef_df['exp_coef'].head(50).sort_values(ascending = False)"
   ]
  },
  {
   "cell_type": "code",
   "execution_count": 26,
   "metadata": {},
   "outputs": [
    {
     "data": {
      "image/png": "[encoded data removed]",
      "text/plain": [
       "<Figure size 1440x720 with 1 Axes>"
      ]
     },
     "metadata": {
      "needs_background": "light"
     },
     "output_type": "display_data"
    }
   ],
   "source": [
    "weights = coef_df['exp_coef'].head(15).sort_values()\n",
    "labels = weights.index\n",
    "\n",
    "plt.figure(figsize=(20,10))\n",
    "plt.barh(labels, weights, color = 'maroon')\n",
    "plt.yticks(fontsize=20)\n",
    "plt.xticks(fontsize=20)\n",
    "plt.xlabel('Exp Coef', fontsize=30)\n",
    "plt.title(f'Top 10 Title Features - nosleep', fontsize=42)\n",
    "plt.tight_layout()\n",
    "\n",
    "for index, value in enumerate(weights):\n",
    "    plt.text(value, index, str(round(value,2)), fontsize = 20)\n",
    "\n",
    "\n",
    "plt.savefig('../assets/nosleep_coef', bbox_inches='tight', dpi = 235);"
   ]
  },
  {
   "cell_type": "markdown",
   "metadata": {},
   "source": [
    "## Coefficient Interpretation of top feature:\n",
    "- **As there is a one word increase in our word 'follow', a reddit post is 4.2 times as likely to be from the nosleep subreddit**"
   ]
  },
  {
   "cell_type": "markdown",
   "metadata": {},
   "source": [
    "## Mutinomial Bayes Model"
   ]
  },
  {
   "cell_type": "code",
   "execution_count": 27,
   "metadata": {},
   "outputs": [],
   "source": [
    "X = df['clean_title']\n",
    "y = df['subreddit']"
   ]
  },
  {
   "cell_type": "code",
   "execution_count": 28,
   "metadata": {},
   "outputs": [],
   "source": [
    "# Create train_test_split.\n",
    "X_train, X_test, y_train, y_test = train_test_split(X,\n",
    "                                                    y,\n",
    "                                                   random_state = 42,\n",
    "                                                   stratify = y)"
   ]
  },
  {
   "cell_type": "code",
   "execution_count": 29,
   "metadata": {},
   "outputs": [],
   "source": [
    "tfidf_vect = TfidfVectorizer(max_df = 0.75, ngram_range = (1,2))                             \n",
    "\n",
    "X_train_tvec = tfidf_vect.fit_transform(X_train)\n",
    "X_test_tvec = tfidf_vect.transform(X_test)"
   ]
  },
  {
   "cell_type": "code",
   "execution_count": 30,
   "metadata": {},
   "outputs": [],
   "source": [
    "multinom_bayes = MultinomialNB()\n",
    "multinom_bayes.fit(X_train_tvec, y_train)\n",
    "predictions = multinom_bayes.predict(X_test_tvec)"
   ]
  },
  {
   "cell_type": "code",
   "execution_count": 31,
   "metadata": {},
   "outputs": [
    {
     "name": "stdout",
     "output_type": "stream",
     "text": [
      "TFIDFVectorized Multinomial Bayes Model:\n",
      "Training Accuracy Score: 91.04%.\n",
      "Testing Accuracy Score: 71.28%.\n"
     ]
    }
   ],
   "source": [
    "# Accuracy scores\n",
    "print ('TFIDFVectorized Multinomial Bayes Model:')\n",
    "print(f'Training Accuracy Score: {round(multinom_bayes.score(X_train_tvec, y_train) * 100, 2)}%.')\n",
    "print(f'Testing Accuracy Score: {round(multinom_bayes.score(X_test_tvec, y_test) * 100, 2)}%.')"
   ]
  }
 ],
 "metadata": {
  "kernelspec": {
   "display_name": "Python 3",
   "language": "python",
   "name": "python3"
  },
  "language_info": {
   "codemirror_mode": {
    "name": "ipython",
    "version": 3
   },
   "file_extension": ".py",
   "mimetype": "text/x-python",
   "name": "python",
   "nbconvert_exporter": "python",
   "pygments_lexer": "ipython3",
   "version": "3.7.6"
  }
 },
 "nbformat": 4,
 "nbformat_minor": 4
}
